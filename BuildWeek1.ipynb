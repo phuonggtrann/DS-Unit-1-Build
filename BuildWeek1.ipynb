{
  "nbformat": 4,
  "nbformat_minor": 0,
  "metadata": {
    "colab": {
      "name": "BuildWeek1.ipynb",
      "provenance": [],
      "include_colab_link": true
    },
    "kernelspec": {
      "name": "python3",
      "display_name": "Python 3"
    }
  },
  "cells": [
    {
      "cell_type": "markdown",
      "metadata": {
        "id": "view-in-github",
        "colab_type": "text"
      },
      "source": [
        "<a href=\"https://colab.research.google.com/github/phuonggtrann/DS-Unit-1-Build/blob/master/BuildWeek1.ipynb\" target=\"_parent\"><img src=\"https://colab.research.google.com/assets/colab-badge.svg\" alt=\"Open In Colab\"/></a>"
      ]
    },
    {
      "cell_type": "markdown",
      "metadata": {
        "id": "lci_7DVwCCnQ",
        "colab_type": "text"
      },
      "source": [
        "Blog post at https://phuonggtrann.github.io/2020-05-28-universe-age/"
      ]
    },
    {
      "cell_type": "code",
      "metadata": {
        "id": "LmoI7HZhN8wx",
        "colab_type": "code",
        "colab": {}
      },
      "source": [
        "import pandas as pd\n",
        "import numpy as np\n",
        "import matplotlib.pyplot as plt\n",
        "import math\n",
        "from sklearn.metrics import r2_score\n",
        "from sklearn.cluster import KMeans"
      ],
      "execution_count": 0,
      "outputs": []
    },
    {
      "cell_type": "code",
      "metadata": {
        "id": "KPpOUdeIO3s_",
        "colab_type": "code",
        "colab": {}
      },
      "source": [
        "# https://en.wikipedia.org/wiki/Age_of_the_universe\n",
        "predicted_age = 13.9"
      ],
      "execution_count": 0,
      "outputs": []
    },
    {
      "cell_type": "code",
      "metadata": {
        "id": "ZnQLj4TTN5-s",
        "colab_type": "code",
        "outputId": "1bc4a1cc-2cf0-4550-b5ff-45b35f57c650",
        "colab": {
          "base_uri": "https://localhost:8080/",
          "height": 424
        }
      },
      "source": [
        "url = \"https://raw.githubusercontent.com/zonination/galaxies/master/galaxies.csv\"\n",
        "# The last line contains ',' in the end therefore pandas has been throwing error\n",
        "# Set error_bad_lines to False to eliminate \"error\" lines\n",
        "df = pd.read_csv(url, error_bad_lines=False)\n",
        "df"
      ],
      "execution_count": 4,
      "outputs": [
        {
          "output_type": "stream",
          "text": [
            "b'Skipping line 4241: expected 3 fields, saw 4\\n'\n"
          ],
          "name": "stderr"
        },
        {
          "output_type": "execute_result",
          "data": {
            "text/html": [
              "<div>\n",
              "<style scoped>\n",
              "    .dataframe tbody tr th:only-of-type {\n",
              "        vertical-align: middle;\n",
              "    }\n",
              "\n",
              "    .dataframe tbody tr th {\n",
              "        vertical-align: top;\n",
              "    }\n",
              "\n",
              "    .dataframe thead th {\n",
              "        text-align: right;\n",
              "    }\n",
              "</style>\n",
              "<table border=\"1\" class=\"dataframe\">\n",
              "  <thead>\n",
              "    <tr style=\"text-align: right;\">\n",
              "      <th></th>\n",
              "      <th>objname</th>\n",
              "      <th>mod0</th>\n",
              "      <th>vgsr</th>\n",
              "    </tr>\n",
              "  </thead>\n",
              "  <tbody>\n",
              "    <tr>\n",
              "      <th>0</th>\n",
              "      <td>UGC12914</td>\n",
              "      <td>33.49</td>\n",
              "      <td>4522.0</td>\n",
              "    </tr>\n",
              "    <tr>\n",
              "      <th>1</th>\n",
              "      <td>PGC000143</td>\n",
              "      <td>24.94</td>\n",
              "      <td>-54.0</td>\n",
              "    </tr>\n",
              "    <tr>\n",
              "      <th>2</th>\n",
              "      <td>NGC7814</td>\n",
              "      <td>30.80</td>\n",
              "      <td>1204.0</td>\n",
              "    </tr>\n",
              "    <tr>\n",
              "      <th>3</th>\n",
              "      <td>UGC00014</td>\n",
              "      <td>35.03</td>\n",
              "      <td>7428.0</td>\n",
              "    </tr>\n",
              "    <tr>\n",
              "      <th>4</th>\n",
              "      <td>UGC00017</td>\n",
              "      <td>31.34</td>\n",
              "      <td>1024.0</td>\n",
              "    </tr>\n",
              "    <tr>\n",
              "      <th>...</th>\n",
              "      <td>...</td>\n",
              "      <td>...</td>\n",
              "      <td>...</td>\n",
              "    </tr>\n",
              "    <tr>\n",
              "      <th>4234</th>\n",
              "      <td>UGC06940</td>\n",
              "      <td>31.98</td>\n",
              "      <td>1184.0</td>\n",
              "    </tr>\n",
              "    <tr>\n",
              "      <th>4235</th>\n",
              "      <td>UGC06862</td>\n",
              "      <td>34.13</td>\n",
              "      <td>2658.0</td>\n",
              "    </tr>\n",
              "    <tr>\n",
              "      <th>4236</th>\n",
              "      <td>PGC083734</td>\n",
              "      <td>35.23</td>\n",
              "      <td>6268.0</td>\n",
              "    </tr>\n",
              "    <tr>\n",
              "      <th>4237</th>\n",
              "      <td>PGC090806</td>\n",
              "      <td>35.15</td>\n",
              "      <td>6031.0</td>\n",
              "    </tr>\n",
              "    <tr>\n",
              "      <th>4238</th>\n",
              "      <td>UGC07423</td>\n",
              "      <td>32.73</td>\n",
              "      <td>1191.0</td>\n",
              "    </tr>\n",
              "  </tbody>\n",
              "</table>\n",
              "<p>4239 rows × 3 columns</p>\n",
              "</div>"
            ],
            "text/plain": [
              "        objname   mod0    vgsr\n",
              "0      UGC12914  33.49  4522.0\n",
              "1     PGC000143  24.94   -54.0\n",
              "2       NGC7814  30.80  1204.0\n",
              "3      UGC00014  35.03  7428.0\n",
              "4      UGC00017  31.34  1024.0\n",
              "...         ...    ...     ...\n",
              "4234   UGC06940  31.98  1184.0\n",
              "4235   UGC06862  34.13  2658.0\n",
              "4236  PGC083734  35.23  6268.0\n",
              "4237  PGC090806  35.15  6031.0\n",
              "4238   UGC07423  32.73  1191.0\n",
              "\n",
              "[4239 rows x 3 columns]"
            ]
          },
          "metadata": {
            "tags": []
          },
          "execution_count": 4
        }
      ]
    },
    {
      "cell_type": "code",
      "metadata": {
        "id": "m9bPTaxkOwGJ",
        "colab_type": "code",
        "outputId": "c7f80135-7105-4aff-c876-e2f81e09652f",
        "colab": {
          "base_uri": "https://localhost:8080/",
          "height": 87
        }
      },
      "source": [
        "# Checking type\n",
        "df.dtypes"
      ],
      "execution_count": 5,
      "outputs": [
        {
          "output_type": "execute_result",
          "data": {
            "text/plain": [
              "objname     object\n",
              "mod0       float64\n",
              "vgsr       float64\n",
              "dtype: object"
            ]
          },
          "metadata": {
            "tags": []
          },
          "execution_count": 5
        }
      ]
    },
    {
      "cell_type": "code",
      "metadata": {
        "id": "Gjjtuz7UQp15",
        "colab_type": "code",
        "outputId": "e24c83b4-f42b-455d-ae4b-970ff7a3f78d",
        "colab": {
          "base_uri": "https://localhost:8080/",
          "height": 87
        }
      },
      "source": [
        "# Data cleaning, dropping NaNs\n",
        "df = df.dropna()\n",
        "df.isnull().sum()"
      ],
      "execution_count": 6,
      "outputs": [
        {
          "output_type": "execute_result",
          "data": {
            "text/plain": [
              "objname    0\n",
              "mod0       0\n",
              "vgsr       0\n",
              "dtype: int64"
            ]
          },
          "metadata": {
            "tags": []
          },
          "execution_count": 6
        }
      ]
    },
    {
      "cell_type": "code",
      "metadata": {
        "id": "LFFpiQpaQyxA",
        "colab_type": "code",
        "outputId": "729fffa4-b39c-4d4d-af11-7d51c46a4e23",
        "colab": {
          "base_uri": "https://localhost:8080/",
          "height": 197
        }
      },
      "source": [
        "# Renaming column so it's easier to read\n",
        "df = df.rename(columns={'objname': 'name', 'mod0' : 'distance-modulus', 'vgsr' : 'recorded-velocity'})\n",
        "df.head()"
      ],
      "execution_count": 7,
      "outputs": [
        {
          "output_type": "execute_result",
          "data": {
            "text/html": [
              "<div>\n",
              "<style scoped>\n",
              "    .dataframe tbody tr th:only-of-type {\n",
              "        vertical-align: middle;\n",
              "    }\n",
              "\n",
              "    .dataframe tbody tr th {\n",
              "        vertical-align: top;\n",
              "    }\n",
              "\n",
              "    .dataframe thead th {\n",
              "        text-align: right;\n",
              "    }\n",
              "</style>\n",
              "<table border=\"1\" class=\"dataframe\">\n",
              "  <thead>\n",
              "    <tr style=\"text-align: right;\">\n",
              "      <th></th>\n",
              "      <th>name</th>\n",
              "      <th>distance-modulus</th>\n",
              "      <th>recorded-velocity</th>\n",
              "    </tr>\n",
              "  </thead>\n",
              "  <tbody>\n",
              "    <tr>\n",
              "      <th>0</th>\n",
              "      <td>UGC12914</td>\n",
              "      <td>33.49</td>\n",
              "      <td>4522.0</td>\n",
              "    </tr>\n",
              "    <tr>\n",
              "      <th>1</th>\n",
              "      <td>PGC000143</td>\n",
              "      <td>24.94</td>\n",
              "      <td>-54.0</td>\n",
              "    </tr>\n",
              "    <tr>\n",
              "      <th>2</th>\n",
              "      <td>NGC7814</td>\n",
              "      <td>30.80</td>\n",
              "      <td>1204.0</td>\n",
              "    </tr>\n",
              "    <tr>\n",
              "      <th>3</th>\n",
              "      <td>UGC00014</td>\n",
              "      <td>35.03</td>\n",
              "      <td>7428.0</td>\n",
              "    </tr>\n",
              "    <tr>\n",
              "      <th>4</th>\n",
              "      <td>UGC00017</td>\n",
              "      <td>31.34</td>\n",
              "      <td>1024.0</td>\n",
              "    </tr>\n",
              "  </tbody>\n",
              "</table>\n",
              "</div>"
            ],
            "text/plain": [
              "        name  distance-modulus  recorded-velocity\n",
              "0   UGC12914             33.49             4522.0\n",
              "1  PGC000143             24.94              -54.0\n",
              "2    NGC7814             30.80             1204.0\n",
              "3   UGC00014             35.03             7428.0\n",
              "4   UGC00017             31.34             1024.0"
            ]
          },
          "metadata": {
            "tags": []
          },
          "execution_count": 7
        }
      ]
    },
    {
      "cell_type": "code",
      "metadata": {
        "id": "IrnE9lYISBeU",
        "colab_type": "code",
        "outputId": "52aa1da4-2fa2-4584-8e10-f4fde22e4e8a",
        "colab": {
          "base_uri": "https://localhost:8080/",
          "height": 197
        }
      },
      "source": [
        "# Processing data: Calculate actual distance derive from distance modulus\n",
        "# Using formula from https://en.wikipedia.org/wiki/Distance_modulus\n",
        "# d = 10^(1+(dl/5))\n",
        "\n",
        "## in mpc\n",
        "df['derived-distance'] = (10**(1+(df['distance-modulus']/5)))/(1e6)\n",
        "\n",
        "df.head()"
      ],
      "execution_count": 8,
      "outputs": [
        {
          "output_type": "execute_result",
          "data": {
            "text/html": [
              "<div>\n",
              "<style scoped>\n",
              "    .dataframe tbody tr th:only-of-type {\n",
              "        vertical-align: middle;\n",
              "    }\n",
              "\n",
              "    .dataframe tbody tr th {\n",
              "        vertical-align: top;\n",
              "    }\n",
              "\n",
              "    .dataframe thead th {\n",
              "        text-align: right;\n",
              "    }\n",
              "</style>\n",
              "<table border=\"1\" class=\"dataframe\">\n",
              "  <thead>\n",
              "    <tr style=\"text-align: right;\">\n",
              "      <th></th>\n",
              "      <th>name</th>\n",
              "      <th>distance-modulus</th>\n",
              "      <th>recorded-velocity</th>\n",
              "      <th>derived-distance</th>\n",
              "    </tr>\n",
              "  </thead>\n",
              "  <tbody>\n",
              "    <tr>\n",
              "      <th>0</th>\n",
              "      <td>UGC12914</td>\n",
              "      <td>33.49</td>\n",
              "      <td>4522.0</td>\n",
              "      <td>49.888449</td>\n",
              "    </tr>\n",
              "    <tr>\n",
              "      <th>1</th>\n",
              "      <td>PGC000143</td>\n",
              "      <td>24.94</td>\n",
              "      <td>-54.0</td>\n",
              "      <td>0.972747</td>\n",
              "    </tr>\n",
              "    <tr>\n",
              "      <th>2</th>\n",
              "      <td>NGC7814</td>\n",
              "      <td>30.80</td>\n",
              "      <td>1204.0</td>\n",
              "      <td>14.454398</td>\n",
              "    </tr>\n",
              "    <tr>\n",
              "      <th>3</th>\n",
              "      <td>UGC00014</td>\n",
              "      <td>35.03</td>\n",
              "      <td>7428.0</td>\n",
              "      <td>101.391139</td>\n",
              "    </tr>\n",
              "    <tr>\n",
              "      <th>4</th>\n",
              "      <td>UGC00017</td>\n",
              "      <td>31.34</td>\n",
              "      <td>1024.0</td>\n",
              "      <td>18.535316</td>\n",
              "    </tr>\n",
              "  </tbody>\n",
              "</table>\n",
              "</div>"
            ],
            "text/plain": [
              "        name  distance-modulus  recorded-velocity  derived-distance\n",
              "0   UGC12914             33.49             4522.0         49.888449\n",
              "1  PGC000143             24.94              -54.0          0.972747\n",
              "2    NGC7814             30.80             1204.0         14.454398\n",
              "3   UGC00014             35.03             7428.0        101.391139\n",
              "4   UGC00017             31.34             1024.0         18.535316"
            ]
          },
          "metadata": {
            "tags": []
          },
          "execution_count": 8
        }
      ]
    },
    {
      "cell_type": "code",
      "metadata": {
        "id": "2m8PmmqX2GgL",
        "colab_type": "code",
        "outputId": "ce19cbe0-f714-4738-9122-b48406cd19a2",
        "colab": {
          "base_uri": "https://localhost:8080/",
          "height": 278
        }
      },
      "source": [
        "plt.scatter(df['derived-distance'],df['recorded-velocity'], c='pink', alpha = 0.6)\n",
        "# Majority is close to origin\n",
        "plt.xlabel(\"Distance\")\n",
        "plt.ylabel(\"Velocity\")\n",
        "plt.show()"
      ],
      "execution_count": 9,
      "outputs": [
        {
          "output_type": "display_data",
          "data": {
            "image/png": "[encoded data removed]",
            "text/plain": [
              "<Figure size 432x288 with 1 Axes>"
            ]
          },
          "metadata": {
            "tags": [],
            "needs_background": "light"
          }
        }
      ]
    },
    {
      "cell_type": "code",
      "metadata": {
        "id": "oaFW8-Ft4lx3",
        "colab_type": "code",
        "outputId": "9b5bdfae-b4c2-4b95-d56d-e6a712674f17",
        "colab": {
          "base_uri": "https://localhost:8080/",
          "height": 34
        }
      },
      "source": [
        "# Using polynomial regression, deg=1 indicate linear\n",
        "model = np.polyfit(df['derived-distance'],df['recorded-velocity'], deg=1) \n",
        "model # index 0 = slope and index 1 = y-intercept\n",
        "predict = np.poly1d(model)\n",
        "r2 = r2_score(df['recorded-velocity'], predict(df['derived-distance']))\n",
        "print(r2) # r2 nearly 1 indicate a strong linear relationship"
      ],
      "execution_count": 10,
      "outputs": [
        {
          "output_type": "stream",
          "text": [
            "0.9342905641797816\n"
          ],
          "name": "stdout"
        }
      ]
    },
    {
      "cell_type": "code",
      "metadata": {
        "id": "n6uKSx_OR9Uo",
        "colab_type": "code",
        "outputId": "0c5e7d74-a323-4dee-ee22-6166528f5b9b",
        "colab": {
          "base_uri": "https://localhost:8080/",
          "height": 278
        }
      },
      "source": [
        "# Calcualting best fit line\n",
        "lin_dist = range(0, 5000)\n",
        "lin_vel = predict(lin_dist)\n",
        "\n",
        "# Graphing\n",
        "plt.scatter(df['derived-distance'],df['recorded-velocity'], alpha=0.7)\n",
        "plt.plot(lin_dist, lin_vel, c='red') ## Best fit line \n",
        "plt.xlabel(\"Distance (mpc)\")\n",
        "plt.ylabel(\"Velocity (km/s)\")\n",
        "plt.show()"
      ],
      "execution_count": 11,
      "outputs": [
        {
          "output_type": "display_data",
          "data": {
            "image/png": "[encoded data removed]",
            "text/plain": [
              "<Figure size 432x288 with 1 Axes>"
            ]
          },
          "metadata": {
            "tags": [],
            "needs_background": "light"
          }
        }
      ]
    },
    {
      "cell_type": "code",
      "metadata": {
        "id": "uYuVSWAelGjC",
        "colab_type": "code",
        "outputId": "d077ce86-6481-48b5-899b-b38fa74ce264",
        "colab": {
          "base_uri": "https://localhost:8080/",
          "height": 52
        }
      },
      "source": [
        "# model2[0] will be our \"slope\", in this case, will be our Hubble constant\n",
        "# https://www.sciencepagenews.com/2019/08/27/hubble-constant-shows-something-is-fundamentally-wrong-with-our-conception-of-the-universe/\n",
        "hubble_const = model[0]/(3.08*(1e19)) # Convert to km\n",
        "print(\"Hubble constant is:\", hubble_const)\n",
        "age = 1/(hubble_const) # in seconds\n",
        "# 1 year = 31556952 seconds\n",
        "age = (age/31556952)/(1e9)\n",
        "print(\"Age of the universe:\", age) # Way off\n",
        "# Need more data cleaning, wipe all outliers away"
      ],
      "execution_count": 12,
      "outputs": [
        {
          "output_type": "stream",
          "text": [
            "Hubble constant is: 2.044729159746761e-18\n",
            "Age of the universe: 15.49776817910499\n"
          ],
          "name": "stdout"
        }
      ]
    },
    {
      "cell_type": "code",
      "metadata": {
        "id": "iPMagsYOfzKV",
        "colab_type": "code",
        "outputId": "112af35f-a848-4261-b35e-19d539ad29a5",
        "colab": {
          "base_uri": "https://localhost:8080/",
          "height": 294
        }
      },
      "source": [
        "cluster_df = df.copy()\n",
        "cluster_df = cluster_df[['derived-distance', 'recorded-velocity']]\n",
        "\n",
        "sum_of_sqr_dist = []\n",
        "for k in range(1, 15):\n",
        "  km = KMeans(n_clusters=k)\n",
        "  km = km.fit(cluster_df)\n",
        "  sum_of_sqr_dist.append(km.inertia_)\n",
        "plt.plot(range(1,15), sum_of_sqr_dist, 'bx-')\n",
        "plt.xlabel('k')\n",
        "plt.ylabel('sum_of_sqr_dist')\n",
        "plt.title('Elbow Method For Optimal k')\n",
        "plt.show()\n",
        "\n",
        "# Choosing k = 4, that's when it shops decreasing between point of k"
      ],
      "execution_count": 13,
      "outputs": [
        {
          "output_type": "display_data",
          "data": {
            "image/png": "[encoded data removed]",
            "text/plain": [
              "<Figure size 432x288 with 1 Axes>"
            ]
          },
          "metadata": {
            "tags": [],
            "needs_background": "light"
          }
        }
      ]
    },
    {
      "cell_type": "code",
      "metadata": {
        "id": "nOWyHJh1gb_Q",
        "colab_type": "code",
        "outputId": "22558412-e88a-4608-9ad4-197eccfde03a",
        "colab": {
          "base_uri": "https://localhost:8080/",
          "height": 294
        }
      },
      "source": [
        "## Doing kmean, labels is for generating color\n",
        "kmeans = KMeans(n_clusters=2)\n",
        "kmeans.fit(cluster_df)\n",
        "cluster_df['labels'] = kmeans.labels_\n",
        "plt.scatter(cluster_df['derived-distance'], cluster_df['recorded-velocity'], c=cluster_df['labels'])\n",
        "plt.title(\"Original cluster data\")\n",
        "plt.xlabel(\"Distance (mpc)\")\n",
        "plt.ylabel(\" Recession Velocity (km/s)\")\n",
        "plt.show()\n",
        "\n",
        "## Since purple one has the most crowded, we work with that cluster and treats others as outlier"
      ],
      "execution_count": 14,
      "outputs": [
        {
          "output_type": "display_data",
          "data": {
            "image/png": "[encoded data removed]",
            "text/plain": [
              "<Figure size 432x288 with 1 Axes>"
            ]
          },
          "metadata": {
            "tags": [],
            "needs_background": "light"
          }
        }
      ]
    },
    {
      "cell_type": "code",
      "metadata": {
        "id": "GZYH_leCWUKp",
        "colab_type": "code",
        "colab": {}
      },
      "source": [
        "# Recleaning data to see if we get a better shot at this\n",
        "final_df = cluster_df[(cluster_df['labels']==0)] #| (cluster_df['labels']==3) ]\n",
        "final_df = final_df[final_df['recorded-velocity']<50000]"
      ],
      "execution_count": 0,
      "outputs": []
    },
    {
      "cell_type": "code",
      "metadata": {
        "id": "5Klby1a65jMR",
        "colab_type": "code",
        "colab": {
          "base_uri": "https://localhost:8080/",
          "height": 197
        },
        "outputId": "86ed7380-c43a-479c-bd6f-5aac53cccc1f"
      },
      "source": [
        "# First find the age of the universe base on its\n",
        "final_df['hubble-const-in-km'] =  (final_df['recorded-velocity'] / final_df['derived-distance'] ) /(3.08*(1e19))\n",
        "final_df['uni-age'] = ((1/final_df['hubble-const-in-km'])/31556952)/(1e9) \n",
        "final_df = final_df.replace(np.inf, np.NaN)\n",
        "final_df = final_df.dropna()\n",
        "final_df['uni-age'] = final_df['uni-age'].apply(round)\n",
        "final_df.head()"
      ],
      "execution_count": 20,
      "outputs": [
        {
          "output_type": "execute_result",
          "data": {
            "text/html": [
              "<div>\n",
              "<style scoped>\n",
              "    .dataframe tbody tr th:only-of-type {\n",
              "        vertical-align: middle;\n",
              "    }\n",
              "\n",
              "    .dataframe tbody tr th {\n",
              "        vertical-align: top;\n",
              "    }\n",
              "\n",
              "    .dataframe thead th {\n",
              "        text-align: right;\n",
              "    }\n",
              "</style>\n",
              "<table border=\"1\" class=\"dataframe\">\n",
              "  <thead>\n",
              "    <tr style=\"text-align: right;\">\n",
              "      <th></th>\n",
              "      <th>derived-distance</th>\n",
              "      <th>recorded-velocity</th>\n",
              "      <th>labels</th>\n",
              "      <th>hubble-const-in-km</th>\n",
              "      <th>uni-age</th>\n",
              "    </tr>\n",
              "  </thead>\n",
              "  <tbody>\n",
              "    <tr>\n",
              "      <th>0</th>\n",
              "      <td>49.888449</td>\n",
              "      <td>4522.0</td>\n",
              "      <td>0</td>\n",
              "      <td>2.942929e-18</td>\n",
              "      <td>11</td>\n",
              "    </tr>\n",
              "    <tr>\n",
              "      <th>1</th>\n",
              "      <td>0.972747</td>\n",
              "      <td>-54.0</td>\n",
              "      <td>0</td>\n",
              "      <td>-1.802366e-18</td>\n",
              "      <td>-18</td>\n",
              "    </tr>\n",
              "    <tr>\n",
              "      <th>2</th>\n",
              "      <td>14.454398</td>\n",
              "      <td>1204.0</td>\n",
              "      <td>0</td>\n",
              "      <td>2.704430e-18</td>\n",
              "      <td>12</td>\n",
              "    </tr>\n",
              "    <tr>\n",
              "      <th>3</th>\n",
              "      <td>101.391139</td>\n",
              "      <td>7428.0</td>\n",
              "      <td>0</td>\n",
              "      <td>2.378599e-18</td>\n",
              "      <td>13</td>\n",
              "    </tr>\n",
              "    <tr>\n",
              "      <th>4</th>\n",
              "      <td>18.535316</td>\n",
              "      <td>1024.0</td>\n",
              "      <td>0</td>\n",
              "      <td>1.793698e-18</td>\n",
              "      <td>18</td>\n",
              "    </tr>\n",
              "  </tbody>\n",
              "</table>\n",
              "</div>"
            ],
            "text/plain": [
              "   derived-distance  recorded-velocity  labels  hubble-const-in-km  uni-age\n",
              "0         49.888449             4522.0       0        2.942929e-18       11\n",
              "1          0.972747              -54.0       0       -1.802366e-18      -18\n",
              "2         14.454398             1204.0       0        2.704430e-18       12\n",
              "3        101.391139             7428.0       0        2.378599e-18       13\n",
              "4         18.535316             1024.0       0        1.793698e-18       18"
            ]
          },
          "metadata": {
            "tags": []
          },
          "execution_count": 20
        }
      ]
    },
    {
      "cell_type": "code",
      "metadata": {
        "id": "TH71J_nk-pFV",
        "colab_type": "code",
        "colab": {
          "base_uri": "https://localhost:8080/",
          "height": 1000
        },
        "outputId": "47a68729-2b4c-478f-9068-266eb2867f68"
      },
      "source": [
        "age_dict = dict(final_df['uni-age'].value_counts())\n",
        "age_dict"
      ],
      "execution_count": 21,
      "outputs": [
        {
          "output_type": "execute_result",
          "data": {
            "text/plain": [
              "{-1796: 1,\n",
              " -476: 1,\n",
              " -197: 1,\n",
              " -173: 1,\n",
              " -165: 1,\n",
              " -152: 1,\n",
              " -123: 1,\n",
              " -116: 1,\n",
              " -112: 1,\n",
              " -108: 1,\n",
              " -98: 1,\n",
              " -97: 1,\n",
              " -73: 1,\n",
              " -72: 1,\n",
              " -64: 1,\n",
              " -63: 1,\n",
              " -55: 1,\n",
              " -52: 2,\n",
              " -50: 2,\n",
              " -46: 1,\n",
              " -45: 1,\n",
              " -43: 1,\n",
              " -38: 1,\n",
              " -37: 1,\n",
              " -35: 1,\n",
              " -34: 1,\n",
              " -32: 1,\n",
              " -26: 1,\n",
              " -23: 1,\n",
              " -18: 2,\n",
              " -14: 2,\n",
              " -13: 1,\n",
              " -11: 1,\n",
              " -9: 2,\n",
              " -8: 2,\n",
              " -7: 1,\n",
              " -6: 1,\n",
              " -5: 7,\n",
              " -4: 4,\n",
              " -3: 6,\n",
              " -2: 7,\n",
              " -1: 4,\n",
              " 0: 11,\n",
              " 1: 11,\n",
              " 2: 5,\n",
              " 3: 11,\n",
              " 4: 15,\n",
              " 5: 20,\n",
              " 6: 35,\n",
              " 7: 60,\n",
              " 8: 97,\n",
              " 9: 156,\n",
              " 10: 230,\n",
              " 11: 301,\n",
              " 12: 363,\n",
              " 13: 425,\n",
              " 14: 426,\n",
              " 15: 382,\n",
              " 16: 293,\n",
              " 17: 211,\n",
              " 18: 180,\n",
              " 19: 135,\n",
              " 20: 90,\n",
              " 21: 77,\n",
              " 22: 71,\n",
              " 23: 31,\n",
              " 24: 33,\n",
              " 25: 31,\n",
              " 26: 25,\n",
              " 27: 20,\n",
              " 28: 16,\n",
              " 29: 16,\n",
              " 30: 11,\n",
              " 31: 10,\n",
              " 32: 7,\n",
              " 33: 6,\n",
              " 34: 7,\n",
              " 35: 6,\n",
              " 36: 10,\n",
              " 37: 5,\n",
              " 38: 2,\n",
              " 39: 5,\n",
              " 40: 5,\n",
              " 41: 5,\n",
              " 42: 2,\n",
              " 43: 2,\n",
              " 44: 2,\n",
              " 45: 1,\n",
              " 46: 1,\n",
              " 47: 2,\n",
              " 48: 2,\n",
              " 49: 3,\n",
              " 50: 1,\n",
              " 51: 2,\n",
              " 54: 1,\n",
              " 56: 1,\n",
              " 58: 2,\n",
              " 59: 1,\n",
              " 62: 2,\n",
              " 63: 1,\n",
              " 65: 3,\n",
              " 67: 1,\n",
              " 69: 1,\n",
              " 70: 1,\n",
              " 79: 2,\n",
              " 85: 4,\n",
              " 87: 1,\n",
              " 92: 1,\n",
              " 93: 1,\n",
              " 94: 1,\n",
              " 95: 1,\n",
              " 99: 1,\n",
              " 107: 1,\n",
              " 112: 1,\n",
              " 115: 2,\n",
              " 151: 1,\n",
              " 174: 1,\n",
              " 177: 1,\n",
              " 244: 1,\n",
              " 249: 1,\n",
              " 254: 1,\n",
              " 263: 1,\n",
              " 278: 1,\n",
              " 359: 1,\n",
              " 721: 1}"
            ]
          },
          "metadata": {
            "tags": []
          },
          "execution_count": 21
        }
      ]
    },
    {
      "cell_type": "code",
      "metadata": {
        "id": "0w2rCV-l-QeC",
        "colab_type": "code",
        "colab": {
          "base_uri": "https://localhost:8080/",
          "height": 294
        },
        "outputId": "f43e6804-f917-4a32-f310-18d85a70d9f6"
      },
      "source": [
        "plt.bar(age_dict.keys(), age_dict.values())\n",
        "plt.xlim(0, 30)\n",
        "plt.title(\"Age of the galaxies\")\n",
        "plt.xlabel(\"Age\")\n",
        "plt.ylabel(\"Frequency\")\n",
        "plt.show()\n",
        "\n",
        "#### Galaxies with 13-14 billions year has the most frequency -> conclude that uni age is around 13-14 bil year"
      ],
      "execution_count": 26,
      "outputs": [
        {
          "output_type": "display_data",
          "data": {
            "image/png": "[encoded data removed]",
            "text/plain": [
              "<Figure size 432x288 with 1 Axes>"
            ]
          },
          "metadata": {
            "tags": [],
            "needs_background": "light"
          }
        }
      ]
    },
    {
      "cell_type": "code",
      "metadata": {
        "id": "ORsTub_bXBtM",
        "colab_type": "code",
        "outputId": "be3cf097-9982-48b6-d11a-89d719b1a387",
        "colab": {
          "base_uri": "https://localhost:8080/",
          "height": 278
        }
      },
      "source": [
        "## Redo all the step above\n",
        "plt.scatter(final_df['derived-distance'], final_df['recorded-velocity'], c='pink')\n",
        "plt.xlabel(\"Distance\")\n",
        "plt.ylabel(\"Velocity\")\n",
        "plt.show()"
      ],
      "execution_count": 16,
      "outputs": [
        {
          "output_type": "display_data",
          "data": {
            "image/png": "[encoded data removed]",
            "text/plain": [
              "<Figure size 432x288 with 1 Axes>"
            ]
          },
          "metadata": {
            "tags": [],
            "needs_background": "light"
          }
        }
      ]
    },
    {
      "cell_type": "code",
      "metadata": {
        "id": "IAuq9LhvXRUU",
        "colab_type": "code",
        "outputId": "70367873-0027-4378-a419-256d2369b9da",
        "colab": {
          "base_uri": "https://localhost:8080/",
          "height": 34
        }
      },
      "source": [
        "# Using polynomial regression, deg=1 indicate linear\n",
        "model2 = np.polyfit(final_df['derived-distance'], final_df['recorded-velocity'], deg=1) \n",
        "model2 # index 0 = slope and index 1 = y-intercept\n",
        "predict2 = np.poly1d(model2)\n",
        "new_r2 = r2_score(final_df['recorded-velocity'], predict(final_df['derived-distance']))\n",
        "print(new_r2) # r2 nearly 1 indicate a strong linear relationship"
      ],
      "execution_count": 17,
      "outputs": [
        {
          "output_type": "stream",
          "text": [
            "0.8792176872062871\n"
          ],
          "name": "stdout"
        }
      ]
    },
    {
      "cell_type": "code",
      "metadata": {
        "id": "scUoGa2OYFoi",
        "colab_type": "code",
        "outputId": "3d614136-67cb-40bd-c371-f60e44c065f0",
        "colab": {
          "base_uri": "https://localhost:8080/",
          "height": 294
        }
      },
      "source": [
        "# Calcualting best fit line\n",
        "lin_dist = range(0, 800)\n",
        "lin_vel = predict(lin_dist)\n",
        "\n",
        "# Graphing\n",
        "plt.scatter(final_df['derived-distance'],final_df['recorded-velocity'])\n",
        "plt.plot(lin_dist, lin_vel, c='red') ## Best fit line \n",
        "plt.xlabel(\"Distance (mpc)\")\n",
        "plt.ylabel(\"Velocity (km/s)\")\n",
        "plt.title(\"After data clearing\")\n",
        "plt.text(s='Hubble constant: \\n'+ str(model2[0]) + \"\\nkm/s/Mpc\", x = 0, y=40000)\n",
        "plt.show() # Looks more fit"
      ],
      "execution_count": 18,
      "outputs": [
        {
          "output_type": "display_data",
          "data": {
            "image/png": "[encoded data removed]",
            "text/plain": [
              "<Figure size 432x288 with 1 Axes>"
            ]
          },
          "metadata": {
            "tags": [],
            "needs_background": "light"
          }
        }
      ]
    },
    {
      "cell_type": "code",
      "metadata": {
        "id": "aAM5757Y_t-6",
        "colab_type": "code",
        "outputId": "022c7756-125b-44a5-a2c2-cd26ed2ef222",
        "colab": {
          "base_uri": "https://localhost:8080/",
          "height": 52
        }
      },
      "source": [
        "# model2[0] will be our \"slope\", in this case, will be our Hubble constant\n",
        "# https://www.sciencepagenews.com/2019/08/27/hubble-constant-shows-something-is-fundamentally-wrong-with-our-conception-of-the-universe/\n",
        "new_hubble_const = model2[0]/(3.08*(1e19)) # Convert to km\n",
        "print(\"Hubble constant is:\", new_hubble_const)\n",
        "new_age = 1/(new_hubble_const) # in seconds\n",
        "# 1 year = 31556952 seconds\n",
        "new_age = (1/(model2[0]/(3.08*(1e19)))/31556952)/(1e9) \n",
        "## Pretty close, happy now :)\n",
        "print(\"Age of the universe:\", new_age)"
      ],
      "execution_count": 19,
      "outputs": [
        {
          "output_type": "stream",
          "text": [
            "Hubble constant is: 2.2921034317497256e-18\n",
            "Age of the universe: 13.825178248008276\n"
          ],
          "name": "stdout"
        }
      ]
    }
  ]
}